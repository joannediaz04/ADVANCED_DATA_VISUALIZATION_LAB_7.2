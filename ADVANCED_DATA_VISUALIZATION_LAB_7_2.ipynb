{
  "nbformat": 4,
  "nbformat_minor": 0,
  "metadata": {
    "colab": {
      "provenance": [],
      "authorship_tag": "ABX9TyPF77c2/WLqo2E466ptH+iH",
      "include_colab_link": true
    },
    "kernelspec": {
      "name": "python3",
      "display_name": "Python 3"
    },
    "language_info": {
      "name": "python"
    }
  },
  "cells": [
    {
      "cell_type": "markdown",
      "metadata": {
        "id": "view-in-github",
        "colab_type": "text"
      },
      "source": [
        "<a href=\"https://colab.research.google.com/github/joannediaz04/ADVANCED_DATA_VISUALIZATION_LAB_7.2/blob/main/ADVANCED_DATA_VISUALIZATION_LAB_7_2.ipynb\" target=\"_parent\"><img src=\"https://colab.research.google.com/assets/colab-badge.svg\" alt=\"Open In Colab\"/></a>"
      ]
    },
    {
      "cell_type": "code",
      "source": [
        "temp = int(input(\"What is the temperature outside?:\"))\n",
        "\n",
        "if temp >= 0 and temp<=44:\n",
        "  print(\"the temperature is good today\")\n",
        "  print(\"can go outside!\")\n",
        "elif temp < 0 or temp > 44:\n",
        "  print(\"the temperatureis bad today!\")\n",
        "  print(\"you must stay inside!\")"
      ],
      "metadata": {
        "colab": {
          "base_uri": "https://localhost:8080/"
        },
        "id": "XOWqOoRb1fo3",
        "outputId": "229d8659-ba41-433c-d148-029523a56039"
      },
      "execution_count": 4,
      "outputs": [
        {
          "output_type": "stream",
          "name": "stdout",
          "text": [
            "What is the temperature outside?:55\n",
            "the temperatureis bad today!\n",
            "you must stay inside!\n"
          ]
        }
      ]
    }
  ]
}